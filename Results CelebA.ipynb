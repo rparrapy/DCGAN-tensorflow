{
 "cells": [
  {
   "cell_type": "code",
   "execution_count": 1,
   "metadata": {
    "collapsed": false
   },
   "outputs": [],
   "source": [
    "import glob, os\n",
    "import pandas as pd\n",
    "import matplotlib.pyplot as plt\n",
    "import numpy as np\n",
    "from math import floor\n",
    "import matplotlib\n",
    "\n",
    "font = {'family' : 'normal',\n",
    "        'size'   : 14}\n",
    "\n",
    "matplotlib.rc('font', **font)\n",
    "\n",
    "def get_summary_df(path='./', metric='avgp', proportions=(0.1, 0.25, 0.5, 0.75, 1.0)):\n",
    "    result = []\n",
    "    for prop in proportions:\n",
    "        runs = []\n",
    "        for folder in glob.glob(path +\"/results_celeba_*\" + str(prop) + \"/run.*\"):\n",
    "            df = pd.read_csv(folder + '/result_summary_celeba.csv').drop(['classifier'], 1)\n",
    "            runs.append(df)\n",
    "        mean = pd.concat(runs).groupby(['dataset']).mean()[[metric]].rename(columns={metric: 'mean'})\n",
    "        std = pd.concat(runs).groupby(['dataset']).std()[[metric]].rename(columns={metric: 'std'})\n",
    "        std['proportion'] = prop\n",
    "        result.append(pd.concat([mean, std], axis=1))\n",
    "    \n",
    "    return pd.concat(result)\n",
    "\n",
    "def plot_results_clf(path='./', metrics=['avgp', 'auc', 'bacc'], proportions=(0.1, 0.25, 0.5, 0.75, 1.0),\\\n",
    "                     title='AUC Average Precision', opts=['imbalanced', 'oversampled',\\\n",
    "                    'augmented'], width = 0.04, baseline=None):\n",
    "    color_map = {'imbalanced': 'C0', 'oversampled': 'C1', 'augmented': 'C2', 'synthesized': 'C2', 'balanced': 'C4'}\n",
    "    label_map = {'imbalanced': 'original', 'oversampled': 'oversampling',\\\n",
    "                 'augmented': 'GAN sampling', 'synthesized': 'GAN sampling', 'balanced': 'original'}\n",
    "    title_map = {'avgp': 'AUC Average Precision', 'auc': 'AUC ROC Curve', 'bacc': 'Balanced Accuracy', 'acc': 'Accuracy'}\n",
    "    all_paths = ['./smiling', './attractive', './lipstick', './high_cheekbones', 'mouth_slightly_open']\n",
    "    path_to_title = ['Smiling', 'Attractive', 'Wearing Lipstick', 'High Cheekbones', 'Mouth Slightly Open']\n",
    "    paths = all_paths if 'acc' in metrics else [path]\n",
    "    offset = 0 if len(opts) == 1 else -1\n",
    "    summary = {}\n",
    "\n",
    "    h_axes_len = 3\n",
    "    v_axes_len = 2 if 'acc' in metrics else 1\n",
    "    \n",
    "    fig, axes = plt.subplots(v_axes_len, h_axes_len, sharey=True, figsize=(15, 5*v_axes_len))\n",
    "    if len(axes.shape) == 1: \n",
    "        axes = np.expand_dims(axes, 0) \n",
    "    \n",
    "    for k, path in enumerate(paths):\n",
    "        summary[path] = {}\n",
    "        for j, metric in enumerate(metrics):\n",
    "            summary[path][metric] = get_summary_df(path, metric, proportions)\n",
    "            vidx = floor((k+j) / 3)\n",
    "            hidx = (k+j) % 3\n",
    "            for i, opt in enumerate(opts):\n",
    "                df = summary[path][metric].loc[[opt]]\n",
    "                axes[vidx][hidx].bar(df['proportion'] + (i + offset) * width, df['mean'], width, yerr=df['std'], label=label_map[opt], color=color_map[opt])\n",
    "            if baseline:\n",
    "                df = summary[path][metric].loc[[baseline]]\n",
    "                axes[vidx][hidx].axhline(np.mean(df['mean']), ls='--', label=label_map[baseline], color=color_map[baseline])\n",
    "            # plt.legend(loc='center left', bbox_to_anchor=(0.5, 1.05))\n",
    "            box = axes[vidx][hidx].get_position()\n",
    "            axes[vidx][hidx].set_position([box.x0, box.y0, box.width * 1.0, box.height])\n",
    "            # Put a legend to the right of the current axis\n",
    "            #elif (metric == 'acc' and path=='./lipstick'):\n",
    "            #    axes[i].legend(loc='center left', bbox_to_anchor=(0.32, 1.2), ncol=2)\n",
    "\n",
    "\n",
    "            if offset < 0:\n",
    "                if path == './smiling' or path == './lipstick':\n",
    "                    axes[vidx][hidx].set_ylim(0.75, 1.0)\n",
    "                else:\n",
    "                    axes[vidx][hidx].set_ylim(0.4, 1.0)\n",
    "\n",
    "            axes[vidx][hidx].set_xticks(proportions)\n",
    "            if vidx == 0: \n",
    "                y_label = 'Accuracy' if 'acc' in metrics else 'Score'\n",
    "                axes[vidx][0].set_ylabel(y_label)\n",
    "            axes[vidx][hidx].set_xlabel('Imbalance Ratio')\n",
    "            if 'acc' in metrics:\n",
    "                axes[vidx][hidx].set_title(path_to_title[k+j])\n",
    "            else:\n",
    "                axes[vidx][hidx].set_title(title_map[metric])\n",
    "\n",
    "    if 'acc' in metrics:\n",
    "        axes[1][1].legend(loc='upper center', ncol=1, bbox_to_anchor=(1.4, 0.5))\n",
    "        fig.delaxes(axes.flatten()[-1])\n",
    "        plt.tight_layout()\n",
    "    else:\n",
    "        axes[0][1].legend(loc='upper left', bbox_to_anchor=(-0.4, 1.25), ncol=3)\n",
    "    plt.show()"
   ]
  },
  {
   "cell_type": "markdown",
   "metadata": {},
   "source": [
    "## Smiling"
   ]
  },
  {
   "cell_type": "code",
   "execution_count": 2,
   "metadata": {
    "collapsed": false
   },
   "outputs": [],
   "source": [
    "plot_results_clf('./smiling')"
   ]
  },
  {
   "cell_type": "code",
   "execution_count": 3,
   "metadata": {
    "collapsed": false
   },
   "outputs": [],
   "source": [
    "plot_results_clf(path='./smiling', metrics=['acc'], title='Accuracy', opts=['synthesized'], baseline='balanced', width=0.1)"
   ]
  },
  {
   "cell_type": "markdown",
   "metadata": {
    "collapsed": true
   },
   "source": [
    "## Attractive"
   ]
  },
  {
   "cell_type": "code",
   "execution_count": 4,
   "metadata": {
    "collapsed": false
   },
   "outputs": [],
   "source": [
    "plot_results_clf('./attractive')"
   ]
  },
  {
   "cell_type": "markdown",
   "metadata": {
    "collapsed": true
   },
   "source": [
    "## Lipstick"
   ]
  },
  {
   "cell_type": "code",
   "execution_count": 5,
   "metadata": {
    "collapsed": false
   },
   "outputs": [],
   "source": [
    "plot_results_clf('./lipstick')"
   ]
  },
  {
   "cell_type": "markdown",
   "metadata": {
    "collapsed": true
   },
   "source": [
    "## High Cheekbones"
   ]
  },
  {
   "cell_type": "code",
   "execution_count": 6,
   "metadata": {
    "collapsed": false
   },
   "outputs": [],
   "source": [
    "plot_results_clf('./high_cheekbones')"
   ]
  },
  {
   "cell_type": "markdown",
   "metadata": {},
   "source": [
    "## Mouth Slightly Open"
   ]
  },
  {
   "cell_type": "code",
   "execution_count": 7,
   "metadata": {
    "collapsed": false
   },
   "outputs": [],
   "source": [
    "plot_results_clf('./mouth_slightly_open')"
   ]
  },
  {
   "cell_type": "markdown",
   "metadata": {},
   "source": [
    "# Rank comparison"
   ]
  },
  {
   "cell_type": "code",
   "execution_count": 27,
   "metadata": {
    "collapsed": false
   },
   "outputs": [],
   "source": [
    "def get_ranks_for_expression(path, metric='avgp', proportions=[0.1, 0.25, 0.5, 0.75, 1.0]):\n",
    "    df = get_summary_df(path, metric).reset_index()\n",
    "    df = df.loc[df['dataset'].isin(['imbalanced', 'oversampled', 'augmented'])]\n",
    "    df = df.loc[df['proportion'].isin(proportions)]\n",
    "    ranks = df.groupby(['proportion'])['mean'].rank(ascending=False)\n",
    "    df['rank'] = ranks\n",
    "    df['attr'] = path[2:]\n",
    "    return df\n",
    "\n",
    "def get_ranks(paths=['./smiling', './attractive', './lipstick', './high_cheekbones', 'mouth_slightly_open'], metric='avgp'):\n",
    "    ranks = [get_ranks_for_expression(p, metric) for p in paths]\n",
    "    return pd.concat(ranks, ignore_index=True)\n",
    "\n",
    "def plot_ranks(paths=['./smiling', './attractive', './lipstick', './high_cheekbones', 'mouth_slightly_open'], metrics=['avgp', 'auc', 'bacc'], title='AUC Average Precision'):\n",
    "    opts=['imbalanced', 'oversampled', 'augmented']\n",
    "    color_map = {'imbalanced': 'C0', 'oversampled': 'C1', 'augmented': 'C2', 'synthesized': 'C2', 'balanced': 'C4'}\n",
    "    label_map = {'imbalanced': 'original', 'oversampled': 'oversampling',\\\n",
    "                 'augmented': 'GAN sampling', 'synthesized': 'GAN sampling', 'balanced': 'original'}\n",
    "    title_map = {'avgp': 'AUC Average Precision', 'auc': 'AUC ROC Curve', 'bacc': 'Balanced Accuracy'}\n",
    "\n",
    "    fig, axes = plt.subplots(1, len(metrics), sharey=True, figsize=(5*len(metrics), 5))\n",
    "    \n",
    "    for i, metric in enumerate(metrics):\n",
    "        df = get_ranks(paths, metric).groupby(['dataset', 'proportion']).mean()\n",
    "\n",
    "        for opt in opts:\n",
    "            axes[i].plot(df['rank'][opt].index.values, df['rank'][opt].values, color=color_map[opt], label=label_map[opt])\n",
    "\n",
    "        axes[i].set_title(title_map[metric])\n",
    "        axes[i].set_xlabel('Imbalance Ratio')\n",
    "    \n",
    "    axes[0].set_ylabel('Ranking Score')\n",
    "    plt.legend(loc='center left', bbox_to_anchor=(-1.7, 1.2), ncol=3)\n",
    "    plt.ylim([0.8,3.2])\n",
    "    plt.show()"
   ]
  },
  {
   "cell_type": "code",
   "execution_count": 28,
   "metadata": {
    "collapsed": false
   },
   "outputs": [],
   "source": [
    "plot_ranks()"
   ]
  },
  {
   "cell_type": "code",
   "execution_count": 10,
   "metadata": {
    "collapsed": false
   },
   "outputs": [],
   "source": [
    "from scipy.stats import friedmanchisquare\n",
    "from scipy.stats import kruskal\n",
    "\n",
    "def get_measurements(opts, metric, proportions):\n",
    "    df = get_ranks(metric=metric)\n",
    "    df = df.loc[df['proportion'].isin(proportions)]\n",
    "    measurements = []\n",
    "    for opt in opts:\n",
    "        ms = df.loc[df['dataset'] == opt]['rank'].values\n",
    "        measurements.append(ms)\n",
    "    return measurements\n",
    "\n",
    "\n",
    "def friedman_test(metric='avgp', proportions=[0.1, 0.25, 0.5]):\n",
    "    opts = ['imbalanced', 'oversampled', 'augmented']\n",
    "    measurements = get_measurements(opts, metric, proportions)\n",
    "    return friedmanchisquare(*measurements)"
   ]
  },
  {
   "cell_type": "code",
   "execution_count": 11,
   "metadata": {
    "collapsed": false
   },
   "outputs": [],
   "source": [
    "friedman_test()"
   ]
  },
  {
   "cell_type": "code",
   "execution_count": 12,
   "metadata": {
    "collapsed": false
   },
   "outputs": [],
   "source": [
    "friedman_test('auc')"
   ]
  },
  {
   "cell_type": "code",
   "execution_count": 13,
   "metadata": {
    "collapsed": false
   },
   "outputs": [],
   "source": [
    "friedman_test('bacc')"
   ]
  },
  {
   "cell_type": "code",
   "execution_count": 14,
   "metadata": {
    "collapsed": false
   },
   "outputs": [],
   "source": [
    "from scipy.stats import wilcoxon\n",
    "\n",
    "def wilcoxon_test(opts, metric='avgp', proportions=[0.1, 0.25, 0.5]):\n",
    "    assert len(opts) == 2\n",
    "    measurements = get_measurements(opts, metric, proportions)\n",
    "    return wilcoxon(measurements[0], measurements[1])"
   ]
  },
  {
   "cell_type": "code",
   "execution_count": 15,
   "metadata": {
    "collapsed": false
   },
   "outputs": [],
   "source": [
    "wilcoxon_test(['imbalanced', 'augmented'])"
   ]
  },
  {
   "cell_type": "code",
   "execution_count": 16,
   "metadata": {
    "collapsed": false
   },
   "outputs": [],
   "source": [
    "wilcoxon_test(['oversampled', 'augmented'])"
   ]
  },
  {
   "cell_type": "code",
   "execution_count": 17,
   "metadata": {
    "collapsed": false
   },
   "outputs": [],
   "source": [
    "wilcoxon_test(['imbalanced', 'augmented'], 'auc')"
   ]
  },
  {
   "cell_type": "code",
   "execution_count": 18,
   "metadata": {
    "collapsed": false
   },
   "outputs": [],
   "source": [
    "wilcoxon_test(['oversampled', 'augmented'], 'auc')"
   ]
  },
  {
   "cell_type": "code",
   "execution_count": 19,
   "metadata": {
    "collapsed": false
   },
   "outputs": [],
   "source": [
    "wilcoxon_test(['imbalanced', 'augmented'], 'bacc')"
   ]
  },
  {
   "cell_type": "code",
   "execution_count": 20,
   "metadata": {
    "collapsed": false
   },
   "outputs": [],
   "source": [
    "wilcoxon_test(['oversampled', 'augmented'], 'bacc')"
   ]
  },
  {
   "cell_type": "code",
   "execution_count": null,
   "metadata": {
    "collapsed": true
   },
   "outputs": [],
   "source": []
  }
 ],
 "metadata": {
  "kernelspec": {
   "display_name": "Python [default]",
   "language": "python",
   "name": "python2"
  },
  "language_info": {
   "codemirror_mode": {
    "name": "ipython",
    "version": 2
   },
   "file_extension": ".py",
   "mimetype": "text/x-python",
   "name": "python",
   "nbconvert_exporter": "python",
   "pygments_lexer": "ipython2",
   "version": "2.7.12"
  }
 },
 "nbformat": 4,
 "nbformat_minor": 2
}
